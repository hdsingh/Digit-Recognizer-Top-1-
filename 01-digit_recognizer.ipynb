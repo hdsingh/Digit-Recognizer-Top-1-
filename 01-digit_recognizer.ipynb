{
 "cells": [
  {
   "cell_type": "code",
   "execution_count": 1,
   "metadata": {
    "ExecuteTime": {
     "end_time": "2018-11-15T19:19:30.195594Z",
     "start_time": "2018-11-15T19:19:29.692445Z"
    }
   },
   "outputs": [],
   "source": [
    "import pandas as pd\n",
    "import numpy as np\n",
    "import matplotlib.pyplot as plt\n",
    "from sklearn.model_selection import train_test_split"
   ]
  },
  {
   "cell_type": "code",
   "execution_count": 2,
   "metadata": {
    "ExecuteTime": {
     "end_time": "2018-11-15T19:19:33.774884Z",
     "start_time": "2018-11-15T19:19:30.197433Z"
    }
   },
   "outputs": [],
   "source": [
    "train = pd.read_csv('train.csv')\n",
    "test = pd.read_csv('test.csv')"
   ]
  },
  {
   "cell_type": "code",
   "execution_count": 3,
   "metadata": {
    "ExecuteTime": {
     "end_time": "2018-11-15T19:19:33.780892Z",
     "start_time": "2018-11-15T19:19:33.776411Z"
    }
   },
   "outputs": [
    {
     "data": {
      "text/plain": [
       "((42000, 785), (28000, 784))"
      ]
     },
     "execution_count": 3,
     "metadata": {},
     "output_type": "execute_result"
    }
   ],
   "source": [
    "train.shape,test.shape"
   ]
  },
  {
   "cell_type": "code",
   "execution_count": 4,
   "metadata": {
    "ExecuteTime": {
     "end_time": "2018-11-15T19:19:33.804903Z",
     "start_time": "2018-11-15T19:19:33.783129Z"
    }
   },
   "outputs": [
    {
     "data": {
      "text/html": [
       "<div>\n",
       "<style scoped>\n",
       "    .dataframe tbody tr th:only-of-type {\n",
       "        vertical-align: middle;\n",
       "    }\n",
       "\n",
       "    .dataframe tbody tr th {\n",
       "        vertical-align: top;\n",
       "    }\n",
       "\n",
       "    .dataframe thead th {\n",
       "        text-align: right;\n",
       "    }\n",
       "</style>\n",
       "<table border=\"1\" class=\"dataframe\">\n",
       "  <thead>\n",
       "    <tr style=\"text-align: right;\">\n",
       "      <th></th>\n",
       "      <th>label</th>\n",
       "      <th>pixel0</th>\n",
       "      <th>pixel1</th>\n",
       "      <th>pixel2</th>\n",
       "      <th>pixel3</th>\n",
       "      <th>pixel4</th>\n",
       "      <th>pixel5</th>\n",
       "      <th>pixel6</th>\n",
       "      <th>pixel7</th>\n",
       "      <th>pixel8</th>\n",
       "      <th>...</th>\n",
       "      <th>pixel774</th>\n",
       "      <th>pixel775</th>\n",
       "      <th>pixel776</th>\n",
       "      <th>pixel777</th>\n",
       "      <th>pixel778</th>\n",
       "      <th>pixel779</th>\n",
       "      <th>pixel780</th>\n",
       "      <th>pixel781</th>\n",
       "      <th>pixel782</th>\n",
       "      <th>pixel783</th>\n",
       "    </tr>\n",
       "  </thead>\n",
       "  <tbody>\n",
       "    <tr>\n",
       "      <th>0</th>\n",
       "      <td>1</td>\n",
       "      <td>0</td>\n",
       "      <td>0</td>\n",
       "      <td>0</td>\n",
       "      <td>0</td>\n",
       "      <td>0</td>\n",
       "      <td>0</td>\n",
       "      <td>0</td>\n",
       "      <td>0</td>\n",
       "      <td>0</td>\n",
       "      <td>...</td>\n",
       "      <td>0</td>\n",
       "      <td>0</td>\n",
       "      <td>0</td>\n",
       "      <td>0</td>\n",
       "      <td>0</td>\n",
       "      <td>0</td>\n",
       "      <td>0</td>\n",
       "      <td>0</td>\n",
       "      <td>0</td>\n",
       "      <td>0</td>\n",
       "    </tr>\n",
       "    <tr>\n",
       "      <th>1</th>\n",
       "      <td>0</td>\n",
       "      <td>0</td>\n",
       "      <td>0</td>\n",
       "      <td>0</td>\n",
       "      <td>0</td>\n",
       "      <td>0</td>\n",
       "      <td>0</td>\n",
       "      <td>0</td>\n",
       "      <td>0</td>\n",
       "      <td>0</td>\n",
       "      <td>...</td>\n",
       "      <td>0</td>\n",
       "      <td>0</td>\n",
       "      <td>0</td>\n",
       "      <td>0</td>\n",
       "      <td>0</td>\n",
       "      <td>0</td>\n",
       "      <td>0</td>\n",
       "      <td>0</td>\n",
       "      <td>0</td>\n",
       "      <td>0</td>\n",
       "    </tr>\n",
       "    <tr>\n",
       "      <th>2</th>\n",
       "      <td>1</td>\n",
       "      <td>0</td>\n",
       "      <td>0</td>\n",
       "      <td>0</td>\n",
       "      <td>0</td>\n",
       "      <td>0</td>\n",
       "      <td>0</td>\n",
       "      <td>0</td>\n",
       "      <td>0</td>\n",
       "      <td>0</td>\n",
       "      <td>...</td>\n",
       "      <td>0</td>\n",
       "      <td>0</td>\n",
       "      <td>0</td>\n",
       "      <td>0</td>\n",
       "      <td>0</td>\n",
       "      <td>0</td>\n",
       "      <td>0</td>\n",
       "      <td>0</td>\n",
       "      <td>0</td>\n",
       "      <td>0</td>\n",
       "    </tr>\n",
       "    <tr>\n",
       "      <th>3</th>\n",
       "      <td>4</td>\n",
       "      <td>0</td>\n",
       "      <td>0</td>\n",
       "      <td>0</td>\n",
       "      <td>0</td>\n",
       "      <td>0</td>\n",
       "      <td>0</td>\n",
       "      <td>0</td>\n",
       "      <td>0</td>\n",
       "      <td>0</td>\n",
       "      <td>...</td>\n",
       "      <td>0</td>\n",
       "      <td>0</td>\n",
       "      <td>0</td>\n",
       "      <td>0</td>\n",
       "      <td>0</td>\n",
       "      <td>0</td>\n",
       "      <td>0</td>\n",
       "      <td>0</td>\n",
       "      <td>0</td>\n",
       "      <td>0</td>\n",
       "    </tr>\n",
       "    <tr>\n",
       "      <th>4</th>\n",
       "      <td>0</td>\n",
       "      <td>0</td>\n",
       "      <td>0</td>\n",
       "      <td>0</td>\n",
       "      <td>0</td>\n",
       "      <td>0</td>\n",
       "      <td>0</td>\n",
       "      <td>0</td>\n",
       "      <td>0</td>\n",
       "      <td>0</td>\n",
       "      <td>...</td>\n",
       "      <td>0</td>\n",
       "      <td>0</td>\n",
       "      <td>0</td>\n",
       "      <td>0</td>\n",
       "      <td>0</td>\n",
       "      <td>0</td>\n",
       "      <td>0</td>\n",
       "      <td>0</td>\n",
       "      <td>0</td>\n",
       "      <td>0</td>\n",
       "    </tr>\n",
       "  </tbody>\n",
       "</table>\n",
       "<p>5 rows × 785 columns</p>\n",
       "</div>"
      ],
      "text/plain": [
       "   label  pixel0  pixel1  pixel2  pixel3  pixel4  pixel5  pixel6  pixel7  \\\n",
       "0      1       0       0       0       0       0       0       0       0   \n",
       "1      0       0       0       0       0       0       0       0       0   \n",
       "2      1       0       0       0       0       0       0       0       0   \n",
       "3      4       0       0       0       0       0       0       0       0   \n",
       "4      0       0       0       0       0       0       0       0       0   \n",
       "\n",
       "   pixel8    ...     pixel774  pixel775  pixel776  pixel777  pixel778  \\\n",
       "0       0    ...            0         0         0         0         0   \n",
       "1       0    ...            0         0         0         0         0   \n",
       "2       0    ...            0         0         0         0         0   \n",
       "3       0    ...            0         0         0         0         0   \n",
       "4       0    ...            0         0         0         0         0   \n",
       "\n",
       "   pixel779  pixel780  pixel781  pixel782  pixel783  \n",
       "0         0         0         0         0         0  \n",
       "1         0         0         0         0         0  \n",
       "2         0         0         0         0         0  \n",
       "3         0         0         0         0         0  \n",
       "4         0         0         0         0         0  \n",
       "\n",
       "[5 rows x 785 columns]"
      ]
     },
     "execution_count": 4,
     "metadata": {},
     "output_type": "execute_result"
    }
   ],
   "source": [
    "train.head()"
   ]
  },
  {
   "cell_type": "code",
   "execution_count": 5,
   "metadata": {
    "ExecuteTime": {
     "end_time": "2018-11-15T19:19:33.911253Z",
     "start_time": "2018-11-15T19:19:33.807811Z"
    }
   },
   "outputs": [],
   "source": [
    "X,y = train.iloc[:,1:].values.astype('float32'),train.iloc[:,0].values.astype('int32')\n",
    "test = test.values.astype('float32') "
   ]
  },
  {
   "cell_type": "code",
   "execution_count": 6,
   "metadata": {
    "ExecuteTime": {
     "end_time": "2018-11-15T19:19:34.026255Z",
     "start_time": "2018-11-15T19:19:33.912566Z"
    }
   },
   "outputs": [
    {
     "data": {
      "text/plain": [
       "0"
      ]
     },
     "execution_count": 6,
     "metadata": {},
     "output_type": "execute_result"
    },
    {
     "data": {
      "image/png": "[encoded data removed]",
      "text/plain": [
       "<matplotlib.figure.Figure at 0x7f689c278dd8>"
      ]
     },
     "metadata": {},
     "output_type": "display_data"
    }
   ],
   "source": [
    "val =4\n",
    "a = X[val].reshape(28,28)   \n",
    "plt.imshow(a,cmap='gray')\n",
    "y[val]"
   ]
  },
  {
   "cell_type": "code",
   "execution_count": 90,
   "metadata": {
    "ExecuteTime": {
     "end_time": "2018-11-15T21:15:43.894386Z",
     "start_time": "2018-11-15T21:15:43.647530Z"
    }
   },
   "outputs": [],
   "source": [
    "X_train, X_test, y_train, y_test = train_test_split(X,y,test_size = 0.1)\n",
    "X_train = X_train/255\n",
    "X_test = X_test/255    "
   ]
  },
  {
   "cell_type": "code",
   "execution_count": 8,
   "metadata": {
    "ExecuteTime": {
     "end_time": "2018-11-15T19:19:34.308832Z",
     "start_time": "2018-11-15T19:19:34.274801Z"
    }
   },
   "outputs": [],
   "source": [
    "test = test/255"
   ]
  },
  {
   "cell_type": "code",
   "execution_count": 9,
   "metadata": {
    "ExecuteTime": {
     "end_time": "2018-11-15T19:19:34.313781Z",
     "start_time": "2018-11-15T19:19:34.310255Z"
    }
   },
   "outputs": [
    {
     "data": {
      "text/plain": [
       "((40320, 784), (1680, 784))"
      ]
     },
     "execution_count": 9,
     "metadata": {},
     "output_type": "execute_result"
    }
   ],
   "source": [
    "X_train.shape,X_test.shape"
   ]
  },
  {
   "cell_type": "code",
   "execution_count": 97,
   "metadata": {
    "ExecuteTime": {
     "end_time": "2018-11-15T21:16:26.373976Z",
     "start_time": "2018-11-15T21:16:26.370683Z"
    }
   },
   "outputs": [],
   "source": [
    "X_train = X_train.reshape(-1,28,28,1)\n",
    "X_test = X_test.reshape(-1,28,28,1)  "
   ]
  },
  {
   "cell_type": "code",
   "execution_count": 11,
   "metadata": {
    "ExecuteTime": {
     "end_time": "2018-11-15T19:19:34.322267Z",
     "start_time": "2018-11-15T19:19:34.319022Z"
    }
   },
   "outputs": [],
   "source": [
    "test = test.reshape(-1,28,28,1)"
   ]
  },
  {
   "cell_type": "code",
   "execution_count": 98,
   "metadata": {
    "ExecuteTime": {
     "end_time": "2018-11-15T21:16:35.264223Z",
     "start_time": "2018-11-15T21:16:35.252468Z"
    }
   },
   "outputs": [
    {
     "data": {
      "text/plain": [
       "(37800, 28, 28, 1)"
      ]
     },
     "execution_count": 98,
     "metadata": {},
     "output_type": "execute_result"
    }
   ],
   "source": [
    "X_train.shape"
   ]
  },
  {
   "cell_type": "code",
   "execution_count": 14,
   "metadata": {
    "ExecuteTime": {
     "end_time": "2018-11-15T19:20:02.400426Z",
     "start_time": "2018-11-15T19:20:01.657509Z"
    }
   },
   "outputs": [
    {
     "name": "stderr",
     "output_type": "stream",
     "text": [
      "/home/hdsingh/.local/lib/python3.5/site-packages/h5py/__init__.py:36: FutureWarning: Conversion of the second argument of issubdtype from `float` to `np.floating` is deprecated. In future, it will be treated as `np.float64 == np.dtype(float).type`.\n",
      "  from ._conv import register_converters as _register_converters\n",
      "Using TensorFlow backend.\n"
     ]
    }
   ],
   "source": [
    "import keras"
   ]
  },
  {
   "cell_type": "code",
   "execution_count": 101,
   "metadata": {
    "ExecuteTime": {
     "end_time": "2018-11-15T21:17:21.217571Z",
     "start_time": "2018-11-15T21:17:21.214014Z"
    }
   },
   "outputs": [],
   "source": [
    "y_train = keras.utils.to_categorical(y_train, num_classes=10)\n",
    "y_test = keras.utils.to_categorical(y_test, num_classes=10)"
   ]
  },
  {
   "cell_type": "code",
   "execution_count": 16,
   "metadata": {
    "ExecuteTime": {
     "end_time": "2018-11-15T19:20:02.415019Z",
     "start_time": "2018-11-15T19:20:02.406981Z"
    }
   },
   "outputs": [],
   "source": [
    "from keras.preprocessing import image\n",
    "gen = image.ImageDataGenerator()"
   ]
  },
  {
   "cell_type": "code",
   "execution_count": 17,
   "metadata": {
    "ExecuteTime": {
     "end_time": "2018-11-15T19:20:02.421278Z",
     "start_time": "2018-11-15T19:20:02.416954Z"
    }
   },
   "outputs": [],
   "source": [
    "batches = gen.flow(X_train,y_train,batch_size=64)\n",
    "val_batches = gen.flow(X_test,y_test,batch_size=64)"
   ]
  },
  {
   "cell_type": "code",
   "execution_count": 18,
   "metadata": {
    "ExecuteTime": {
     "end_time": "2018-11-15T19:20:02.725302Z",
     "start_time": "2018-11-15T19:20:02.722320Z"
    }
   },
   "outputs": [],
   "source": [
    "from keras.models import Sequential\n",
    "from keras.layers import Dense,Flatten\n",
    "from keras import optimizers\n",
    "from keras import losses"
   ]
  },
  {
   "cell_type": "code",
   "execution_count": 19,
   "metadata": {
    "ExecuteTime": {
     "end_time": "2018-11-15T19:20:02.898570Z",
     "start_time": "2018-11-15T19:20:02.874173Z"
    }
   },
   "outputs": [],
   "source": [
    "model = Sequential()"
   ]
  },
  {
   "cell_type": "code",
   "execution_count": 20,
   "metadata": {
    "ExecuteTime": {
     "end_time": "2018-11-15T19:20:03.139065Z",
     "start_time": "2018-11-15T19:20:03.133040Z"
    }
   },
   "outputs": [],
   "source": [
    "model.add(Dense(units = 64,activation = 'tanh',input_shape = (X_train.shape[1:])))\n",
    "model.add(Flatten())\n",
    "model.add(Dense(units = 32,activation = 'relu'))\n",
    "model.add(Dense(10,activation='softmax'))"
   ]
  },
  {
   "cell_type": "code",
   "execution_count": 21,
   "metadata": {
    "ExecuteTime": {
     "end_time": "2018-11-15T19:20:03.413482Z",
     "start_time": "2018-11-15T19:20:03.408070Z"
    }
   },
   "outputs": [],
   "source": [
    "optimizer = optimizers.RMSprop()"
   ]
  },
  {
   "cell_type": "code",
   "execution_count": 22,
   "metadata": {
    "ExecuteTime": {
     "end_time": "2018-11-15T19:20:03.884715Z",
     "start_time": "2018-11-15T19:20:03.878938Z"
    }
   },
   "outputs": [],
   "source": [
    "model.compile(optimizer=optimizer,\n",
    "             loss = losses.categorical_crossentropy,\n",
    "             metrics = ['accuracy'])"
   ]
  },
  {
   "cell_type": "code",
   "execution_count": 23,
   "metadata": {
    "ExecuteTime": {
     "end_time": "2018-11-15T19:20:04.096348Z",
     "start_time": "2018-11-15T19:20:04.089313Z"
    }
   },
   "outputs": [],
   "source": [
    "# model.summary()"
   ]
  },
  {
   "cell_type": "markdown",
   "metadata": {},
   "source": [
    "Acc:0.9224"
   ]
  },
  {
   "cell_type": "markdown",
   "metadata": {},
   "source": [
    "## Convolutional Model"
   ]
  },
  {
   "cell_type": "code",
   "execution_count": 24,
   "metadata": {
    "ExecuteTime": {
     "end_time": "2018-11-15T19:20:04.628403Z",
     "start_time": "2018-11-15T19:20:04.622237Z"
    }
   },
   "outputs": [],
   "source": [
    "from keras.layers import Convolution2D, MaxPooling2D"
   ]
  },
  {
   "cell_type": "code",
   "execution_count": 25,
   "metadata": {
    "ExecuteTime": {
     "end_time": "2018-11-15T19:20:05.092073Z",
     "start_time": "2018-11-15T19:20:05.086380Z"
    }
   },
   "outputs": [],
   "source": [
    "model = Sequential()"
   ]
  },
  {
   "cell_type": "code",
   "execution_count": 26,
   "metadata": {
    "ExecuteTime": {
     "end_time": "2018-11-15T19:20:06.279690Z",
     "start_time": "2018-11-15T19:20:06.208150Z"
    }
   },
   "outputs": [],
   "source": [
    "model.add(Convolution2D(input_shape = (X_train.shape[1:]),filters=128,kernel_size=(3,3),activation='relu'))\n",
    "model.add(Convolution2D(filters=64,kernel_size=(3,3),activation='relu'))\n",
    "model.add(MaxPooling2D())\n",
    "model.add(Convolution2D(48,(3,3),activation='relu'))\n",
    "model.add(MaxPooling2D())\n",
    "model.add(Flatten())\n",
    "model.add(Dense(64,activation='relu'))\n",
    "model.add(Dense(10,activation='softmax'))"
   ]
  },
  {
   "cell_type": "code",
   "execution_count": 27,
   "metadata": {
    "ExecuteTime": {
     "end_time": "2018-11-15T19:20:06.996283Z",
     "start_time": "2018-11-15T19:20:06.958008Z"
    }
   },
   "outputs": [],
   "source": [
    "optimizer = optimizers.Adam()\n",
    "model.compile(optimizer=optimizer,\n",
    "             loss = losses.categorical_crossentropy,\n",
    "             metrics = ['accuracy'])"
   ]
  },
  {
   "cell_type": "code",
   "execution_count": 28,
   "metadata": {
    "ExecuteTime": {
     "end_time": "2018-11-15T19:20:07.567570Z",
     "start_time": "2018-11-15T19:20:07.553429Z"
    }
   },
   "outputs": [
    {
     "name": "stdout",
     "output_type": "stream",
     "text": [
      "_________________________________________________________________\n",
      "Layer (type)                 Output Shape              Param #   \n",
      "=================================================================\n",
      "conv2d_1 (Conv2D)            (None, 26, 26, 128)       1280      \n",
      "_________________________________________________________________\n",
      "conv2d_2 (Conv2D)            (None, 24, 24, 64)        73792     \n",
      "_________________________________________________________________\n",
      "max_pooling2d_1 (MaxPooling2 (None, 12, 12, 64)        0         \n",
      "_________________________________________________________________\n",
      "conv2d_3 (Conv2D)            (None, 10, 10, 48)        27696     \n",
      "_________________________________________________________________\n",
      "max_pooling2d_2 (MaxPooling2 (None, 5, 5, 48)          0         \n",
      "_________________________________________________________________\n",
      "flatten_1 (Flatten)          (None, 1200)              0         \n",
      "_________________________________________________________________\n",
      "dense_1 (Dense)              (None, 64)                76864     \n",
      "_________________________________________________________________\n",
      "dense_2 (Dense)              (None, 10)                650       \n",
      "=================================================================\n",
      "Total params: 180,282\n",
      "Trainable params: 180,282\n",
      "Non-trainable params: 0\n",
      "_________________________________________________________________\n"
     ]
    }
   ],
   "source": [
    "model.summary()"
   ]
  },
  {
   "cell_type": "markdown",
   "metadata": {},
   "source": [
    "## Convolutional With Batch Normalisation"
   ]
  },
  {
   "cell_type": "code",
   "execution_count": 40,
   "metadata": {
    "ExecuteTime": {
     "end_time": "2018-11-15T19:34:33.987837Z",
     "start_time": "2018-11-15T19:34:33.983359Z"
    }
   },
   "outputs": [],
   "source": [
    "from keras.layers.normalization import BatchNormalization"
   ]
  },
  {
   "cell_type": "code",
   "execution_count": 41,
   "metadata": {
    "ExecuteTime": {
     "end_time": "2018-11-15T19:34:36.628603Z",
     "start_time": "2018-11-15T19:34:36.622607Z"
    }
   },
   "outputs": [],
   "source": [
    "model = Sequential()"
   ]
  },
  {
   "cell_type": "code",
   "execution_count": 42,
   "metadata": {
    "ExecuteTime": {
     "end_time": "2018-11-15T19:37:17.757587Z",
     "start_time": "2018-11-15T19:37:17.335956Z"
    }
   },
   "outputs": [],
   "source": [
    "model.add(Convolution2D(input_shape = (X_train.shape[1:]),filters=128,kernel_size=(3,3),activation='relu'))\n",
    "model.add(BatchNormalization(axis = 1))\n",
    "model.add(Convolution2D(filters=64,kernel_size=(3,3),activation='relu'))\n",
    "model.add(BatchNormalization(axis = 1))\n",
    "model.add(MaxPooling2D())\n",
    "model.add(Convolution2D(48,(3,3),activation='relu'))\n",
    "model.add(BatchNormalization(axis = 1))\n",
    "model.add(MaxPooling2D())\n",
    "model.add(Flatten())\n",
    "model.add(Dense(64,activation='relu'))\n",
    "model.add(BatchNormalization(axis = 1))\n",
    "model.add(Dense(10,activation='softmax'))"
   ]
  },
  {
   "cell_type": "code",
   "execution_count": 46,
   "metadata": {
    "ExecuteTime": {
     "end_time": "2018-11-15T19:40:21.368963Z",
     "start_time": "2018-11-15T19:40:21.328148Z"
    }
   },
   "outputs": [],
   "source": [
    "optimizer = optimizers.Adam()\n",
    "model.compile(optimizer=optimizer,\n",
    "             loss = losses.categorical_crossentropy,\n",
    "             metrics = ['accuracy'])"
   ]
  },
  {
   "cell_type": "code",
   "execution_count": 47,
   "metadata": {
    "ExecuteTime": {
     "end_time": "2018-11-15T19:40:22.101786Z",
     "start_time": "2018-11-15T19:40:22.092638Z"
    }
   },
   "outputs": [
    {
     "name": "stdout",
     "output_type": "stream",
     "text": [
      "_________________________________________________________________\n",
      "Layer (type)                 Output Shape              Param #   \n",
      "=================================================================\n",
      "conv2d_4 (Conv2D)            (None, 26, 26, 128)       1280      \n",
      "_________________________________________________________________\n",
      "batch_normalization_1 (Batch (None, 26, 26, 128)       104       \n",
      "_________________________________________________________________\n",
      "conv2d_5 (Conv2D)            (None, 24, 24, 64)        73792     \n",
      "_________________________________________________________________\n",
      "batch_normalization_2 (Batch (None, 24, 24, 64)        96        \n",
      "_________________________________________________________________\n",
      "max_pooling2d_3 (MaxPooling2 (None, 12, 12, 64)        0         \n",
      "_________________________________________________________________\n",
      "conv2d_6 (Conv2D)            (None, 10, 10, 48)        27696     \n",
      "_________________________________________________________________\n",
      "batch_normalization_3 (Batch (None, 10, 10, 48)        40        \n",
      "_________________________________________________________________\n",
      "max_pooling2d_4 (MaxPooling2 (None, 5, 5, 48)          0         \n",
      "_________________________________________________________________\n",
      "flatten_2 (Flatten)          (None, 1200)              0         \n",
      "_________________________________________________________________\n",
      "dense_3 (Dense)              (None, 64)                76864     \n",
      "_________________________________________________________________\n",
      "batch_normalization_4 (Batch (None, 64)                256       \n",
      "_________________________________________________________________\n",
      "dense_4 (Dense)              (None, 10)                650       \n",
      "=================================================================\n",
      "Total params: 180,778\n",
      "Trainable params: 180,530\n",
      "Non-trainable params: 248\n",
      "_________________________________________________________________\n"
     ]
    }
   ],
   "source": [
    "model.summary()"
   ]
  },
  {
   "cell_type": "code",
   "execution_count": 48,
   "metadata": {
    "ExecuteTime": {
     "end_time": "2018-11-15T19:53:28.162744Z",
     "start_time": "2018-11-15T19:40:23.589273Z"
    },
    "scrolled": false
   },
   "outputs": [
    {
     "name": "stdout",
     "output_type": "stream",
     "text": [
      "Epoch 1/1\n",
      "40320/40320 [==============================] - 784s 19ms/step - loss: 0.0065 - acc: 0.9981 - val_loss: 0.0446 - val_acc: 0.9929\n"
     ]
    }
   ],
   "source": [
    "history = model.fit_generator(batches,\n",
    "                    steps_per_epoch=batches.n,\n",
    "                    epochs = 1,validation_data = val_batches)"
   ]
  },
  {
   "cell_type": "markdown",
   "metadata": {},
   "source": [
    "{'acc': [0.9980538504464286],\n",
    " 'loss': [0.006540488900378172],\n",
    " 'val_acc': [0.9928571428571429],\n",
    " 'val_loss': [0.04461321641187429]}"
   ]
  },
  {
   "cell_type": "code",
   "execution_count": 61,
   "metadata": {
    "ExecuteTime": {
     "end_time": "2018-11-15T20:26:57.758543Z",
     "start_time": "2018-11-15T20:01:49.376237Z"
    }
   },
   "outputs": [
    {
     "name": "stdout",
     "output_type": "stream",
     "text": [
      "Epoch 1/2\n",
      "40320/40320 [==============================] - 761s 19ms/step - loss: 6.0586e-04 - acc: 0.9998 - val_loss: 0.0346 - val_acc: 0.9899\n",
      "Epoch 2/2\n",
      "40320/40320 [==============================] - 747s 19ms/step - loss: 3.5113e-04 - acc: 0.9999 - val_loss: 0.0615 - val_acc: 0.9911\n"
     ]
    }
   ],
   "source": [
    "history = model.fit_generator(batches,\n",
    "                    steps_per_epoch=batches.n,\n",
    "                    epochs = 2,validation_data = val_batches)"
   ]
  },
  {
   "cell_type": "code",
   "execution_count": 49,
   "metadata": {
    "ExecuteTime": {
     "end_time": "2018-11-15T19:53:39.039762Z",
     "start_time": "2018-11-15T19:53:33.718449Z"
    }
   },
   "outputs": [],
   "source": [
    "res = model.predict_classes(test)"
   ]
  },
  {
   "cell_type": "code",
   "execution_count": 51,
   "metadata": {
    "ExecuteTime": {
     "end_time": "2018-11-15T19:53:59.846699Z",
     "start_time": "2018-11-15T19:53:59.718258Z"
    }
   },
   "outputs": [
    {
     "data": {
      "text/plain": [
       "3"
      ]
     },
     "execution_count": 51,
     "metadata": {},
     "output_type": "execute_result"
    },
    {
     "data": {
      "image/png": "[encoded data removed]",
      "text/plain": [
       "<matplotlib.figure.Figure at 0x7f68204fd630>"
      ]
     },
     "metadata": {},
     "output_type": "display_data"
    }
   ],
   "source": [
    "val = 1466\n",
    "a = test[val].reshape(28,28)\n",
    "plt.imshow(a,cmap='gray')\n",
    "res[val]"
   ]
  },
  {
   "cell_type": "code",
   "execution_count": 54,
   "metadata": {
    "ExecuteTime": {
     "end_time": "2018-11-15T19:54:01.808828Z",
     "start_time": "2018-11-15T19:54:01.711164Z"
    }
   },
   "outputs": [],
   "source": [
    "pred = pd.DataFrame({'ImageId':[i for i in range(1,len(res)+1)],\"label\":list(res) },index=None)"
   ]
  },
  {
   "cell_type": "code",
   "execution_count": 56,
   "metadata": {
    "ExecuteTime": {
     "end_time": "2018-11-15T19:54:03.629681Z",
     "start_time": "2018-11-15T19:54:03.523517Z"
    }
   },
   "outputs": [],
   "source": [
    "pred.to_csv('sub3.csv',index = False)"
   ]
  },
  {
   "cell_type": "code",
   "execution_count": 60,
   "metadata": {
    "ExecuteTime": {
     "end_time": "2018-11-15T19:59:18.599292Z",
     "start_time": "2018-11-15T19:59:18.587451Z"
    }
   },
   "outputs": [
    {
     "data": {
      "text/plain": [
       "{'acc': [0.9980538504464286],\n",
       " 'loss': [0.006540488900378172],\n",
       " 'val_acc': [0.9928571428571429],\n",
       " 'val_loss': [0.04461321641187429]}"
      ]
     },
     "execution_count": 60,
     "metadata": {},
     "output_type": "execute_result"
    }
   ],
   "source": [
    "history.history"
   ]
  },
  {
   "cell_type": "markdown",
   "metadata": {},
   "source": [
    "### Data Augmentation"
   ]
  },
  {
   "cell_type": "markdown",
   "metadata": {},
   "source": [
    "#### Attempt 1"
   ]
  },
  {
   "cell_type": "code",
   "execution_count": 62,
   "metadata": {
    "ExecuteTime": {
     "end_time": "2018-11-15T20:35:57.797012Z",
     "start_time": "2018-11-15T20:35:57.608503Z"
    }
   },
   "outputs": [],
   "source": [
    "gen = image.ImageDataGenerator(featurewise_center=True,\n",
    "                                featurewise_std_normalization=True,\n",
    "                               rotation_range=8, width_shift_range=0.1, shear_range=0.3,\n",
    "                               height_shift_range=0.1, zoom_range=0.08)\n",
    "gen.fit(X_train)\n",
    "batches = gen.flow(X_train, y_train, batch_size=64)\n",
    "\n",
    "val_gen = image.ImageDataGenerator()\n",
    "val_batches = val_gen.flow(X_test, y_test, batch_size=64)"
   ]
  },
  {
   "cell_type": "code",
   "execution_count": 63,
   "metadata": {
    "ExecuteTime": {
     "end_time": "2018-11-15T20:39:14.448745Z",
     "start_time": "2018-11-15T20:39:14.110535Z"
    }
   },
   "outputs": [
    {
     "name": "stdout",
     "output_type": "stream",
     "text": [
      "_________________________________________________________________\n",
      "Layer (type)                 Output Shape              Param #   \n",
      "=================================================================\n",
      "conv2d_7 (Conv2D)            (None, 26, 26, 128)       1280      \n",
      "_________________________________________________________________\n",
      "batch_normalization_5 (Batch (None, 26, 26, 128)       104       \n",
      "_________________________________________________________________\n",
      "conv2d_8 (Conv2D)            (None, 24, 24, 64)        73792     \n",
      "_________________________________________________________________\n",
      "batch_normalization_6 (Batch (None, 24, 24, 64)        96        \n",
      "_________________________________________________________________\n",
      "max_pooling2d_5 (MaxPooling2 (None, 12, 12, 64)        0         \n",
      "_________________________________________________________________\n",
      "conv2d_9 (Conv2D)            (None, 10, 10, 48)        27696     \n",
      "_________________________________________________________________\n",
      "batch_normalization_7 (Batch (None, 10, 10, 48)        40        \n",
      "_________________________________________________________________\n",
      "max_pooling2d_6 (MaxPooling2 (None, 5, 5, 48)          0         \n",
      "_________________________________________________________________\n",
      "flatten_3 (Flatten)          (None, 1200)              0         \n",
      "_________________________________________________________________\n",
      "dense_5 (Dense)              (None, 64)                76864     \n",
      "_________________________________________________________________\n",
      "batch_normalization_8 (Batch (None, 64)                256       \n",
      "_________________________________________________________________\n",
      "dense_6 (Dense)              (None, 10)                650       \n",
      "=================================================================\n",
      "Total params: 180,778\n",
      "Trainable params: 180,530\n",
      "Non-trainable params: 248\n",
      "_________________________________________________________________\n"
     ]
    }
   ],
   "source": [
    "model = Sequential()\n",
    "model.add(Convolution2D(input_shape = (X_train.shape[1:]),filters=128,kernel_size=(3,3),activation='relu'))\n",
    "model.add(BatchNormalization(axis = 1))\n",
    "model.add(Convolution2D(filters=64,kernel_size=(3,3),activation='relu'))\n",
    "model.add(BatchNormalization(axis = 1))\n",
    "model.add(MaxPooling2D())\n",
    "model.add(Convolution2D(48,(3,3),activation='relu'))\n",
    "model.add(BatchNormalization(axis = 1))\n",
    "model.add(MaxPooling2D())\n",
    "model.add(Flatten())\n",
    "model.add(Dense(64,activation='relu'))\n",
    "model.add(BatchNormalization(axis = 1))\n",
    "model.add(Dense(10,activation='softmax'))\n",
    "\n",
    "\n",
    "optimizer = optimizers.Adam()\n",
    "model.compile(optimizer=optimizer,\n",
    "             loss = losses.categorical_crossentropy,\n",
    "             metrics = ['accuracy'])\n",
    "\n",
    "model.summary()"
   ]
  },
  {
   "cell_type": "code",
   "execution_count": 64,
   "metadata": {
    "ExecuteTime": {
     "end_time": "2018-11-15T20:52:06.310357Z",
     "start_time": "2018-11-15T20:39:22.057019Z"
    }
   },
   "outputs": [
    {
     "name": "stdout",
     "output_type": "stream",
     "text": [
      "Epoch 1/1\n",
      "40320/40320 [==============================] - 764s 19ms/step - loss: 0.0211 - acc: 0.9934 - val_loss: 14.5267 - val_acc: 0.0976\n"
     ]
    }
   ],
   "source": [
    "history = model.fit_generator(batches,\n",
    "                    steps_per_epoch=batches.n,\n",
    "                    epochs = 1,validation_data = val_batches)"
   ]
  },
  {
   "cell_type": "code",
   "execution_count": 65,
   "metadata": {
    "ExecuteTime": {
     "end_time": "2018-11-15T20:52:20.287601Z",
     "start_time": "2018-11-15T20:52:14.556795Z"
    }
   },
   "outputs": [],
   "source": [
    "res = model.predict_classes(test)\n",
    "pred = pd.DataFrame({'ImageId':[i for i in range(1,len(res)+1)],\"label\":list(res) },index=None)\n",
    "pred.to_csv('sub4.csv',index = False)"
   ]
  },
  {
   "cell_type": "markdown",
   "metadata": {},
   "source": [
    "#### Attempt 2"
   ]
  },
  {
   "cell_type": "code",
   "execution_count": 91,
   "metadata": {
    "ExecuteTime": {
     "end_time": "2018-11-15T21:15:51.035670Z",
     "start_time": "2018-11-15T21:15:51.032917Z"
    }
   },
   "outputs": [],
   "source": [
    "from keras.datasets import mnist"
   ]
  },
  {
   "cell_type": "code",
   "execution_count": 92,
   "metadata": {
    "ExecuteTime": {
     "end_time": "2018-11-15T21:15:51.594960Z",
     "start_time": "2018-11-15T21:15:51.341487Z"
    }
   },
   "outputs": [],
   "source": [
    "(keras_x_train, keras_y_train),(keras_x_test, keras_y_test) = mnist.load_data()"
   ]
  },
  {
   "cell_type": "code",
   "execution_count": 93,
   "metadata": {
    "ExecuteTime": {
     "end_time": "2018-11-15T21:15:51.599966Z",
     "start_time": "2018-11-15T21:15:51.596387Z"
    }
   },
   "outputs": [
    {
     "data": {
      "text/plain": [
       "((60000, 28, 28), (60000,), (10000, 28, 28))"
      ]
     },
     "execution_count": 93,
     "metadata": {},
     "output_type": "execute_result"
    }
   ],
   "source": [
    "keras_x_train.shape,keras_y_train.shape,keras_x_test.shape"
   ]
  },
  {
   "cell_type": "code",
   "execution_count": 94,
   "metadata": {
    "ExecuteTime": {
     "end_time": "2018-11-15T21:15:51.965272Z",
     "start_time": "2018-11-15T21:15:51.795130Z"
    }
   },
   "outputs": [],
   "source": [
    "keras_x_train = keras_x_train.astype('float32').reshape(-1,28,28,1)\n",
    "keras_x_train = keras_x_train/255\n",
    "keras_y_train = keras_y_train.astype('int32')\n",
    "keras_x_test = keras_x_test.astype('float32').reshape(-1,28,28,1)\n",
    "keras_x_test = keras_x_test/255\n",
    "keras_y_test = keras_y_test.astype('int32')\n",
    "keras_y_train = keras.utils.to_categorical(keras_y_train, num_classes=10)\n",
    "keras_y_test = keras.utils.to_categorical(keras_y_test, num_classes=10)"
   ]
  },
  {
   "cell_type": "code",
   "execution_count": 95,
   "metadata": {
    "ExecuteTime": {
     "end_time": "2018-11-15T21:15:52.022836Z",
     "start_time": "2018-11-15T21:15:52.019568Z"
    }
   },
   "outputs": [
    {
     "data": {
      "text/plain": [
       "((28, 28, 1), (10000, 10))"
      ]
     },
     "execution_count": 95,
     "metadata": {},
     "output_type": "execute_result"
    }
   ],
   "source": [
    "keras_x_train[0].shape,keras_y_test.shape"
   ]
  },
  {
   "cell_type": "code",
   "execution_count": null,
   "metadata": {},
   "outputs": [],
   "source": [
    "X_train = np.concatenate((X_train,keras_x_train,keras_x_test),axis = 0)"
   ]
  },
  {
   "cell_type": "code",
   "execution_count": 102,
   "metadata": {
    "ExecuteTime": {
     "end_time": "2018-11-15T21:17:32.462774Z",
     "start_time": "2018-11-15T21:17:32.459282Z"
    }
   },
   "outputs": [],
   "source": [
    "y_train = np.concatenate((y_train,keras_y_train,keras_y_test),axis = 0)"
   ]
  },
  {
   "cell_type": "code",
   "execution_count": 103,
   "metadata": {
    "ExecuteTime": {
     "end_time": "2018-11-15T21:17:34.375731Z",
     "start_time": "2018-11-15T21:17:34.371881Z"
    }
   },
   "outputs": [
    {
     "data": {
      "text/plain": [
       "((107800, 28, 28, 1), (107800, 10))"
      ]
     },
     "execution_count": 103,
     "metadata": {},
     "output_type": "execute_result"
    }
   ],
   "source": [
    "X_train.shape,y_train.shape"
   ]
  },
  {
   "cell_type": "code",
   "execution_count": 104,
   "metadata": {
    "ExecuteTime": {
     "end_time": "2018-11-15T21:19:32.590148Z",
     "start_time": "2018-11-15T21:19:32.160783Z"
    }
   },
   "outputs": [
    {
     "name": "stdout",
     "output_type": "stream",
     "text": [
      "_________________________________________________________________\n",
      "Layer (type)                 Output Shape              Param #   \n",
      "=================================================================\n",
      "conv2d_10 (Conv2D)           (None, 26, 26, 128)       1280      \n",
      "_________________________________________________________________\n",
      "batch_normalization_9 (Batch (None, 26, 26, 128)       104       \n",
      "_________________________________________________________________\n",
      "conv2d_11 (Conv2D)           (None, 24, 24, 64)        73792     \n",
      "_________________________________________________________________\n",
      "batch_normalization_10 (Batc (None, 24, 24, 64)        96        \n",
      "_________________________________________________________________\n",
      "max_pooling2d_7 (MaxPooling2 (None, 12, 12, 64)        0         \n",
      "_________________________________________________________________\n",
      "conv2d_12 (Conv2D)           (None, 10, 10, 48)        27696     \n",
      "_________________________________________________________________\n",
      "batch_normalization_11 (Batc (None, 10, 10, 48)        40        \n",
      "_________________________________________________________________\n",
      "max_pooling2d_8 (MaxPooling2 (None, 5, 5, 48)          0         \n",
      "_________________________________________________________________\n",
      "flatten_4 (Flatten)          (None, 1200)              0         \n",
      "_________________________________________________________________\n",
      "dense_7 (Dense)              (None, 64)                76864     \n",
      "_________________________________________________________________\n",
      "batch_normalization_12 (Batc (None, 64)                256       \n",
      "_________________________________________________________________\n",
      "dense_8 (Dense)              (None, 10)                650       \n",
      "=================================================================\n",
      "Total params: 180,778\n",
      "Trainable params: 180,530\n",
      "Non-trainable params: 248\n",
      "_________________________________________________________________\n"
     ]
    }
   ],
   "source": [
    "model = Sequential()\n",
    "model.add(Convolution2D(input_shape = (X_train.shape[1:]),filters=128,kernel_size=(3,3),activation='relu'))\n",
    "model.add(BatchNormalization(axis = 1))\n",
    "model.add(Convolution2D(filters=64,kernel_size=(3,3),activation='relu'))\n",
    "model.add(BatchNormalization(axis = 1))\n",
    "model.add(MaxPooling2D())\n",
    "model.add(Convolution2D(48,(3,3),activation='relu'))\n",
    "model.add(BatchNormalization(axis = 1))\n",
    "model.add(MaxPooling2D())\n",
    "model.add(Flatten())\n",
    "model.add(Dense(64,activation='relu'))\n",
    "model.add(BatchNormalization(axis = 1))\n",
    "model.add(Dense(10,activation='softmax'))\n",
    "\n",
    "optimizer = optimizers.Adam()\n",
    "model.compile(optimizer=optimizer,\n",
    "             loss = losses.categorical_crossentropy,\n",
    "             metrics = ['accuracy'])\n",
    "\n",
    "model.summary()"
   ]
  },
  {
   "cell_type": "code",
   "execution_count": 106,
   "metadata": {
    "ExecuteTime": {
     "end_time": "2018-11-15T21:25:28.637262Z",
     "start_time": "2018-11-15T21:24:37.007320Z"
    }
   },
   "outputs": [
    {
     "name": "stdout",
     "output_type": "stream",
     "text": [
      "Epoch 1/2\n",
      "107800/107800 [==============================] - 26s 239us/step - loss: 0.0706 - acc: 0.9837\n",
      "Epoch 2/2\n",
      "107800/107800 [==============================] - 26s 240us/step - loss: 0.0427 - acc: 0.9905\n"
     ]
    }
   ],
   "source": [
    "history = model.fit(X_train,y_train,epochs=2,batch_size=2048)"
   ]
  },
  {
   "cell_type": "code",
   "execution_count": 107,
   "metadata": {
    "ExecuteTime": {
     "end_time": "2018-11-15T21:26:27.668187Z",
     "start_time": "2018-11-15T21:25:35.437398Z"
    }
   },
   "outputs": [
    {
     "name": "stdout",
     "output_type": "stream",
     "text": [
      "Epoch 1/2\n",
      "107800/107800 [==============================] - 26s 241us/step - loss: 0.0303 - acc: 0.9933\n",
      "Epoch 2/2\n",
      "107800/107800 [==============================] - 26s 243us/step - loss: 0.0222 - acc: 0.9953\n"
     ]
    }
   ],
   "source": [
    "history = model.fit(X_train,y_train,epochs=2,batch_size=2048)"
   ]
  },
  {
   "cell_type": "code",
   "execution_count": 108,
   "metadata": {
    "ExecuteTime": {
     "end_time": "2018-11-15T21:28:39.263373Z",
     "start_time": "2018-11-15T21:26:54.709189Z"
    }
   },
   "outputs": [
    {
     "name": "stdout",
     "output_type": "stream",
     "text": [
      "Epoch 1/4\n",
      "107800/107800 [==============================] - 26s 240us/step - loss: 0.0169 - acc: 0.9967\n",
      "Epoch 2/4\n",
      "107800/107800 [==============================] - 26s 244us/step - loss: 0.0130 - acc: 0.9980\n",
      "Epoch 3/4\n",
      "107800/107800 [==============================] - 26s 244us/step - loss: 0.0099 - acc: 0.9987\n",
      "Epoch 4/4\n",
      "107800/107800 [==============================] - 26s 241us/step - loss: 0.0075 - acc: 0.9993\n"
     ]
    }
   ],
   "source": [
    "history = model.fit(X_train,y_train,epochs=4,batch_size=2048)"
   ]
  },
  {
   "cell_type": "code",
   "execution_count": 109,
   "metadata": {
    "ExecuteTime": {
     "end_time": "2018-11-15T21:29:19.115193Z",
     "start_time": "2018-11-15T21:29:13.092099Z"
    }
   },
   "outputs": [],
   "source": [
    "res = model.predict_classes(test)\n",
    "pred = pd.DataFrame({'ImageId':[i for i in range(1,len(res)+1)],\"label\":list(res) },index=None)\n",
    "pred.to_csv('sub5.csv',index = False)"
   ]
  },
  {
   "cell_type": "code",
   "execution_count": 110,
   "metadata": {
    "ExecuteTime": {
     "end_time": "2018-11-15T21:30:33.521129Z",
     "start_time": "2018-11-15T21:29:41.935092Z"
    }
   },
   "outputs": [
    {
     "name": "stdout",
     "output_type": "stream",
     "text": [
      "Epoch 1/2\n",
      "107800/107800 [==============================] - 26s 239us/step - loss: 0.0060 - acc: 0.9995\n",
      "Epoch 2/2\n",
      "107800/107800 [==============================] - 26s 240us/step - loss: 0.0045 - acc: 0.9997\n"
     ]
    }
   ],
   "source": [
    "history = model.fit(X_train,y_train,epochs=2,batch_size=2048)"
   ]
  },
  {
   "cell_type": "code",
   "execution_count": 111,
   "metadata": {
    "ExecuteTime": {
     "end_time": "2018-11-15T21:30:58.440112Z",
     "start_time": "2018-11-15T21:30:52.806492Z"
    }
   },
   "outputs": [],
   "source": [
    "res = model.predict_classes(test)\n",
    "pred = pd.DataFrame({'ImageId':[i for i in range(1,len(res)+1)],\"label\":list(res) },index=None)\n",
    "pred.to_csv('sub6.csv',index = False)"
   ]
  },
  {
   "cell_type": "code",
   "execution_count": 112,
   "metadata": {
    "ExecuteTime": {
     "end_time": "2018-11-15T21:39:07.834277Z",
     "start_time": "2018-11-15T21:38:16.158225Z"
    }
   },
   "outputs": [
    {
     "name": "stdout",
     "output_type": "stream",
     "text": [
      "Epoch 1/2\n",
      "107800/107800 [==============================] - 26s 239us/step - loss: 0.0033 - acc: 0.9999\n",
      "Epoch 2/2\n",
      "107800/107800 [==============================] - 26s 240us/step - loss: 0.0025 - acc: 1.0000\n"
     ]
    }
   ],
   "source": [
    "history = model.fit(X_train,y_train,epochs=2,batch_size=2048)"
   ]
  },
  {
   "cell_type": "code",
   "execution_count": 113,
   "metadata": {
    "ExecuteTime": {
     "end_time": "2018-11-15T21:39:25.637120Z",
     "start_time": "2018-11-15T21:39:19.853047Z"
    }
   },
   "outputs": [],
   "source": [
    "res = model.predict_classes(test)\n",
    "pred = pd.DataFrame({'ImageId':[i for i in range(1,len(res)+1)],\"label\":list(res) },index=None)\n",
    "pred.to_csv('sub7.csv',index = False)"
   ]
  },
  {
   "cell_type": "code",
   "execution_count": 114,
   "metadata": {
    "ExecuteTime": {
     "end_time": "2018-11-15T21:41:02.866887Z",
     "start_time": "2018-11-15T21:40:11.082193Z"
    }
   },
   "outputs": [
    {
     "name": "stdout",
     "output_type": "stream",
     "text": [
      "Epoch 1/2\n",
      "107800/107800 [==============================] - 26s 240us/step - loss: 0.0021 - acc: 1.0000\n",
      "Epoch 2/2\n",
      "107800/107800 [==============================] - 26s 241us/step - loss: 0.0017 - acc: 1.0000\n"
     ]
    }
   ],
   "source": [
    "history = model.fit(X_train,y_train,epochs=2,batch_size=2048)"
   ]
  },
  {
   "cell_type": "code",
   "execution_count": 115,
   "metadata": {
    "ExecuteTime": {
     "end_time": "2018-11-15T21:41:32.643471Z",
     "start_time": "2018-11-15T21:41:26.858523Z"
    }
   },
   "outputs": [],
   "source": [
    "res = model.predict_classes(test)\n",
    "pred = pd.DataFrame({'ImageId':[i for i in range(1,len(res)+1)],\"label\":list(res) },index=None)\n",
    "pred.to_csv('sub8.csv',index = False)"
   ]
  },
  {
   "cell_type": "code",
   "execution_count": null,
   "metadata": {},
   "outputs": [],
   "source": []
  }
 ],
 "metadata": {
  "kernelspec": {
   "display_name": "Python 3",
   "language": "python",
   "name": "python3"
  },
  "language_info": {
   "codemirror_mode": {
    "name": "ipython",
    "version": 3
   },
   "file_extension": ".py",
   "mimetype": "text/x-python",
   "name": "python",
   "nbconvert_exporter": "python",
   "pygments_lexer": "ipython3",
   "version": "3.5.2"
  }
 },
 "nbformat": 4,
 "nbformat_minor": 2
}
